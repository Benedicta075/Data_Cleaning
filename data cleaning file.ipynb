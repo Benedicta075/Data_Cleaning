{
 "cells": [
  {
   "cell_type": "code",
   "execution_count": 254,
   "id": "75f07f27",
   "metadata": {
    "scrolled": true
   },
   "outputs": [],
   "source": [
    "# I imported Pandas library and read in the dataset\n",
    "import pandas as pd\n",
    "\n",
    "df = pd.read_csv('dirty_cafe_sales.csv')\n"
   ]
  },
  {
   "cell_type": "code",
   "execution_count": 255,
   "id": "bfb7c928",
   "metadata": {},
   "outputs": [
    {
     "data": {
      "text/html": [
       "<div>\n",
       "<style scoped>\n",
       "    .dataframe tbody tr th:only-of-type {\n",
       "        vertical-align: middle;\n",
       "    }\n",
       "\n",
       "    .dataframe tbody tr th {\n",
       "        vertical-align: top;\n",
       "    }\n",
       "\n",
       "    .dataframe thead th {\n",
       "        text-align: right;\n",
       "    }\n",
       "</style>\n",
       "<table border=\"1\" class=\"dataframe\">\n",
       "  <thead>\n",
       "    <tr style=\"text-align: right;\">\n",
       "      <th></th>\n",
       "      <th>Transaction ID</th>\n",
       "      <th>Item</th>\n",
       "      <th>Quantity</th>\n",
       "      <th>Price Per Unit</th>\n",
       "      <th>Total Spent</th>\n",
       "      <th>Payment Method</th>\n",
       "      <th>Location</th>\n",
       "      <th>Transaction Date</th>\n",
       "    </tr>\n",
       "  </thead>\n",
       "  <tbody>\n",
       "    <tr>\n",
       "      <th>0</th>\n",
       "      <td>TXN_1961373</td>\n",
       "      <td>Coffee</td>\n",
       "      <td>2</td>\n",
       "      <td>2.0</td>\n",
       "      <td>4.0</td>\n",
       "      <td>Credit Card</td>\n",
       "      <td>Takeaway</td>\n",
       "      <td>2023-09-08</td>\n",
       "    </tr>\n",
       "    <tr>\n",
       "      <th>1</th>\n",
       "      <td>TXN_4977031</td>\n",
       "      <td>Cake</td>\n",
       "      <td>4</td>\n",
       "      <td>3.0</td>\n",
       "      <td>12.0</td>\n",
       "      <td>Cash</td>\n",
       "      <td>In-store</td>\n",
       "      <td>2023-05-16</td>\n",
       "    </tr>\n",
       "    <tr>\n",
       "      <th>2</th>\n",
       "      <td>TXN_4271903</td>\n",
       "      <td>Cookie</td>\n",
       "      <td>4</td>\n",
       "      <td>1.0</td>\n",
       "      <td>ERROR</td>\n",
       "      <td>Credit Card</td>\n",
       "      <td>In-store</td>\n",
       "      <td>2023-07-19</td>\n",
       "    </tr>\n",
       "    <tr>\n",
       "      <th>3</th>\n",
       "      <td>TXN_7034554</td>\n",
       "      <td>Salad</td>\n",
       "      <td>2</td>\n",
       "      <td>5.0</td>\n",
       "      <td>10.0</td>\n",
       "      <td>UNKNOWN</td>\n",
       "      <td>UNKNOWN</td>\n",
       "      <td>2023-04-27</td>\n",
       "    </tr>\n",
       "    <tr>\n",
       "      <th>4</th>\n",
       "      <td>TXN_3160411</td>\n",
       "      <td>Coffee</td>\n",
       "      <td>2</td>\n",
       "      <td>2.0</td>\n",
       "      <td>4.0</td>\n",
       "      <td>Digital Wallet</td>\n",
       "      <td>In-store</td>\n",
       "      <td>2023-06-11</td>\n",
       "    </tr>\n",
       "  </tbody>\n",
       "</table>\n",
       "</div>"
      ],
      "text/plain": [
       "  Transaction ID    Item Quantity Price Per Unit Total Spent  Payment Method  \\\n",
       "0    TXN_1961373  Coffee        2            2.0         4.0     Credit Card   \n",
       "1    TXN_4977031    Cake        4            3.0        12.0            Cash   \n",
       "2    TXN_4271903  Cookie        4            1.0       ERROR     Credit Card   \n",
       "3    TXN_7034554   Salad        2            5.0        10.0         UNKNOWN   \n",
       "4    TXN_3160411  Coffee        2            2.0         4.0  Digital Wallet   \n",
       "\n",
       "   Location Transaction Date  \n",
       "0  Takeaway       2023-09-08  \n",
       "1  In-store       2023-05-16  \n",
       "2  In-store       2023-07-19  \n",
       "3   UNKNOWN       2023-04-27  \n",
       "4  In-store       2023-06-11  "
      ]
     },
     "execution_count": 255,
     "metadata": {},
     "output_type": "execute_result"
    }
   ],
   "source": [
    "# I opened the dataset - first 5 rows\n",
    "df.head()"
   ]
  },
  {
   "cell_type": "code",
   "execution_count": 256,
   "id": "68393580",
   "metadata": {},
   "outputs": [
    {
     "data": {
      "text/plain": [
       "Transaction ID      object\n",
       "Item                object\n",
       "Quantity            object\n",
       "Price Per Unit      object\n",
       "Total Spent         object\n",
       "Payment Method      object\n",
       "Location            object\n",
       "Transaction Date    object\n",
       "dtype: object"
      ]
     },
     "execution_count": 256,
     "metadata": {},
     "output_type": "execute_result"
    }
   ],
   "source": [
    "# I checked to see the Data Type of the columns\n",
    "df.dtypes"
   ]
  },
  {
   "cell_type": "code",
   "execution_count": null,
   "id": "21148aef",
   "metadata": {},
   "outputs": [],
   "source": []
  },
  {
   "cell_type": "code",
   "execution_count": 257,
   "id": "9d5a0705",
   "metadata": {},
   "outputs": [],
   "source": [
    "# I corrected the datatypes of  'Quantity', 'Price Per Unit', 'Total Spent', and 'Transaction Date' using the codes below"
   ]
  },
  {
   "cell_type": "code",
   "execution_count": 258,
   "id": "18df3baa",
   "metadata": {},
   "outputs": [],
   "source": [
    "# But before I could chgange data type of numerical columns, I had to change texts to 0"
   ]
  },
  {
   "cell_type": "code",
   "execution_count": 259,
   "id": "e4d8ffe0",
   "metadata": {},
   "outputs": [],
   "source": [
    "df.loc[df['Quantity'] == 'ERROR', 'Quantity'] = '0'"
   ]
  },
  {
   "cell_type": "code",
   "execution_count": 260,
   "id": "b24ce2e7",
   "metadata": {},
   "outputs": [],
   "source": [
    "df.loc[df['Quantity'] == 'UNKNOWN', 'Quantity'] = '0'"
   ]
  },
  {
   "cell_type": "code",
   "execution_count": 277,
   "id": "8e912fd6",
   "metadata": {},
   "outputs": [],
   "source": [
    "df.loc[df['Quantity'].isnull(), 'Quantity'] = '0'"
   ]
  },
  {
   "cell_type": "code",
   "execution_count": 262,
   "id": "631aa2de",
   "metadata": {},
   "outputs": [],
   "source": [
    "df['Quantity'] = df['Quantity'].astype('Int64')"
   ]
  },
  {
   "cell_type": "code",
   "execution_count": 263,
   "id": "ba9954ce",
   "metadata": {},
   "outputs": [],
   "source": [
    "df.loc[df['Price Per Unit'] == 'ERROR', 'Price Per Unit'] = '0'"
   ]
  },
  {
   "cell_type": "code",
   "execution_count": 264,
   "id": "6e588409",
   "metadata": {},
   "outputs": [],
   "source": [
    "df.loc[df['Price Per Unit'] == 'UNKNOWN', 'Price Per Unit'] = '0'"
   ]
  },
  {
   "cell_type": "code",
   "execution_count": 278,
   "id": "1adfd033",
   "metadata": {},
   "outputs": [],
   "source": [
    "df.loc[df['Price Per Unit'].isnull(), 'Price Per Unit'] = '0'"
   ]
  },
  {
   "cell_type": "code",
   "execution_count": 266,
   "id": "8fc4ed7b",
   "metadata": {},
   "outputs": [],
   "source": [
    "df['Price Per Unit'] = df['Price Per Unit'].astype('Float64')"
   ]
  },
  {
   "cell_type": "code",
   "execution_count": 267,
   "id": "cbaf8c88",
   "metadata": {},
   "outputs": [],
   "source": [
    "df.loc[df['Total Spent'] == 'ERROR', 'Total Spent'] = '0'"
   ]
  },
  {
   "cell_type": "code",
   "execution_count": 268,
   "id": "6914c56b",
   "metadata": {},
   "outputs": [],
   "source": [
    "df.loc[df['Total Spent'] == 'UNKNOWN', 'Total Spent'] = '0'"
   ]
  },
  {
   "cell_type": "code",
   "execution_count": 279,
   "id": "641ebf6e",
   "metadata": {},
   "outputs": [],
   "source": [
    "df.loc[df['Total Spent'].isnull(), 'Total Spent'] = '0'"
   ]
  },
  {
   "cell_type": "code",
   "execution_count": 270,
   "id": "7f22ddc8",
   "metadata": {},
   "outputs": [],
   "source": [
    "df['Total Spent'] = df['Total Spent'].astype('Float64')"
   ]
  },
  {
   "cell_type": "code",
   "execution_count": 271,
   "id": "7cfec5af",
   "metadata": {},
   "outputs": [],
   "source": [
    "df.loc[df['Transaction Date'] == 'ERROR', 'Transaction Date'] = '1900-01-01'"
   ]
  },
  {
   "cell_type": "code",
   "execution_count": 272,
   "id": "e2074295",
   "metadata": {},
   "outputs": [],
   "source": [
    "df.loc[df['Transaction Date'] == 'UNKNOWN', 'Transaction Date'] = '1900-01-01'"
   ]
  },
  {
   "cell_type": "code",
   "execution_count": 273,
   "id": "07cc971b",
   "metadata": {},
   "outputs": [],
   "source": [
    "df.loc[df['Transaction Date'].isnull(), 'Transaction Date'] = '1900-01-01'"
   ]
  },
  {
   "cell_type": "code",
   "execution_count": 274,
   "id": "73f5105b",
   "metadata": {},
   "outputs": [],
   "source": [
    "df['Transaction Date'] = pd.to_datetime(df['Transaction Date'])"
   ]
  },
  {
   "cell_type": "code",
   "execution_count": 275,
   "id": "10b61238",
   "metadata": {},
   "outputs": [
    {
     "data": {
      "text/plain": [
       "Transaction ID         0\n",
       "Item                 333\n",
       "Quantity             138\n",
       "Price Per Unit       179\n",
       "Total Spent          173\n",
       "Payment Method      2579\n",
       "Location            3265\n",
       "Transaction Date       0\n",
       "dtype: int64"
      ]
     },
     "execution_count": 275,
     "metadata": {},
     "output_type": "execute_result"
    }
   ],
   "source": [
    "# I checked for missing rows using the code below\n",
    "df.isnull().sum()"
   ]
  },
  {
   "cell_type": "code",
   "execution_count": 280,
   "id": "548ccd9a",
   "metadata": {},
   "outputs": [],
   "source": [
    "# I filtered to see only the missing rows in Item column"
   ]
  },
  {
   "cell_type": "code",
   "execution_count": 281,
   "id": "89c77319",
   "metadata": {},
   "outputs": [
    {
     "data": {
      "text/html": [
       "<div>\n",
       "<style scoped>\n",
       "    .dataframe tbody tr th:only-of-type {\n",
       "        vertical-align: middle;\n",
       "    }\n",
       "\n",
       "    .dataframe tbody tr th {\n",
       "        vertical-align: top;\n",
       "    }\n",
       "\n",
       "    .dataframe thead th {\n",
       "        text-align: right;\n",
       "    }\n",
       "</style>\n",
       "<table border=\"1\" class=\"dataframe\">\n",
       "  <thead>\n",
       "    <tr style=\"text-align: right;\">\n",
       "      <th></th>\n",
       "      <th>Transaction ID</th>\n",
       "      <th>Item</th>\n",
       "      <th>Quantity</th>\n",
       "      <th>Price Per Unit</th>\n",
       "      <th>Total Spent</th>\n",
       "      <th>Payment Method</th>\n",
       "      <th>Location</th>\n",
       "      <th>Transaction Date</th>\n",
       "    </tr>\n",
       "  </thead>\n",
       "  <tbody>\n",
       "    <tr>\n",
       "      <th>8</th>\n",
       "      <td>TXN_4717867</td>\n",
       "      <td>NaN</td>\n",
       "      <td>5</td>\n",
       "      <td>3.0</td>\n",
       "      <td>15.0</td>\n",
       "      <td>NaN</td>\n",
       "      <td>Takeaway</td>\n",
       "      <td>2023-07-28</td>\n",
       "    </tr>\n",
       "    <tr>\n",
       "      <th>30</th>\n",
       "      <td>TXN_1736287</td>\n",
       "      <td>NaN</td>\n",
       "      <td>5</td>\n",
       "      <td>2.0</td>\n",
       "      <td>10.0</td>\n",
       "      <td>Digital Wallet</td>\n",
       "      <td>NaN</td>\n",
       "      <td>2023-06-02</td>\n",
       "    </tr>\n",
       "    <tr>\n",
       "      <th>61</th>\n",
       "      <td>TXN_8051289</td>\n",
       "      <td>NaN</td>\n",
       "      <td>1</td>\n",
       "      <td>3.0</td>\n",
       "      <td>3.0</td>\n",
       "      <td>NaN</td>\n",
       "      <td>In-store</td>\n",
       "      <td>2023-10-09</td>\n",
       "    </tr>\n",
       "    <tr>\n",
       "      <th>72</th>\n",
       "      <td>TXN_6044979</td>\n",
       "      <td>NaN</td>\n",
       "      <td>1</td>\n",
       "      <td>1.0</td>\n",
       "      <td>1.0</td>\n",
       "      <td>Cash</td>\n",
       "      <td>In-store</td>\n",
       "      <td>2023-12-08</td>\n",
       "    </tr>\n",
       "    <tr>\n",
       "      <th>89</th>\n",
       "      <td>TXN_4132730</td>\n",
       "      <td>NaN</td>\n",
       "      <td>5</td>\n",
       "      <td>1.0</td>\n",
       "      <td>5.0</td>\n",
       "      <td>NaN</td>\n",
       "      <td>In-store</td>\n",
       "      <td>2023-03-12</td>\n",
       "    </tr>\n",
       "    <tr>\n",
       "      <th>...</th>\n",
       "      <td>...</td>\n",
       "      <td>...</td>\n",
       "      <td>...</td>\n",
       "      <td>...</td>\n",
       "      <td>...</td>\n",
       "      <td>...</td>\n",
       "      <td>...</td>\n",
       "      <td>...</td>\n",
       "    </tr>\n",
       "    <tr>\n",
       "      <th>9820</th>\n",
       "      <td>TXN_8751702</td>\n",
       "      <td>NaN</td>\n",
       "      <td>5</td>\n",
       "      <td>0.0</td>\n",
       "      <td>15.0</td>\n",
       "      <td>Cash</td>\n",
       "      <td>NaN</td>\n",
       "      <td>2023-02-13</td>\n",
       "    </tr>\n",
       "    <tr>\n",
       "      <th>9855</th>\n",
       "      <td>TXN_3740505</td>\n",
       "      <td>NaN</td>\n",
       "      <td>2</td>\n",
       "      <td>1.5</td>\n",
       "      <td>3.0</td>\n",
       "      <td>NaN</td>\n",
       "      <td>NaN</td>\n",
       "      <td>2023-11-21</td>\n",
       "    </tr>\n",
       "    <tr>\n",
       "      <th>9876</th>\n",
       "      <td>TXN_3105633</td>\n",
       "      <td>NaN</td>\n",
       "      <td>1</td>\n",
       "      <td>2.0</td>\n",
       "      <td>2.0</td>\n",
       "      <td>NaN</td>\n",
       "      <td>In-store</td>\n",
       "      <td>2023-03-30</td>\n",
       "    </tr>\n",
       "    <tr>\n",
       "      <th>9885</th>\n",
       "      <td>TXN_4659954</td>\n",
       "      <td>NaN</td>\n",
       "      <td>3</td>\n",
       "      <td>4.0</td>\n",
       "      <td>12.0</td>\n",
       "      <td>Credit Card</td>\n",
       "      <td>In-store</td>\n",
       "      <td>1900-01-01</td>\n",
       "    </tr>\n",
       "    <tr>\n",
       "      <th>9996</th>\n",
       "      <td>TXN_9659401</td>\n",
       "      <td>NaN</td>\n",
       "      <td>3</td>\n",
       "      <td>0.0</td>\n",
       "      <td>3.0</td>\n",
       "      <td>Digital Wallet</td>\n",
       "      <td>NaN</td>\n",
       "      <td>2023-06-02</td>\n",
       "    </tr>\n",
       "  </tbody>\n",
       "</table>\n",
       "<p>333 rows × 8 columns</p>\n",
       "</div>"
      ],
      "text/plain": [
       "     Transaction ID Item  Quantity  Price Per Unit  Total Spent  \\\n",
       "8       TXN_4717867  NaN         5             3.0         15.0   \n",
       "30      TXN_1736287  NaN         5             2.0         10.0   \n",
       "61      TXN_8051289  NaN         1             3.0          3.0   \n",
       "72      TXN_6044979  NaN         1             1.0          1.0   \n",
       "89      TXN_4132730  NaN         5             1.0          5.0   \n",
       "...             ...  ...       ...             ...          ...   \n",
       "9820    TXN_8751702  NaN         5             0.0         15.0   \n",
       "9855    TXN_3740505  NaN         2             1.5          3.0   \n",
       "9876    TXN_3105633  NaN         1             2.0          2.0   \n",
       "9885    TXN_4659954  NaN         3             4.0         12.0   \n",
       "9996    TXN_9659401  NaN         3             0.0          3.0   \n",
       "\n",
       "      Payment Method  Location Transaction Date  \n",
       "8                NaN  Takeaway       2023-07-28  \n",
       "30    Digital Wallet       NaN       2023-06-02  \n",
       "61               NaN  In-store       2023-10-09  \n",
       "72              Cash  In-store       2023-12-08  \n",
       "89               NaN  In-store       2023-03-12  \n",
       "...              ...       ...              ...  \n",
       "9820            Cash       NaN       2023-02-13  \n",
       "9855             NaN       NaN       2023-11-21  \n",
       "9876             NaN  In-store       2023-03-30  \n",
       "9885     Credit Card  In-store       1900-01-01  \n",
       "9996  Digital Wallet       NaN       2023-06-02  \n",
       "\n",
       "[333 rows x 8 columns]"
      ]
     },
     "execution_count": 281,
     "metadata": {},
     "output_type": "execute_result"
    }
   ],
   "source": [
    "df[df['Item'].isnull()]"
   ]
  },
  {
   "cell_type": "code",
   "execution_count": 282,
   "id": "05e2565b",
   "metadata": {},
   "outputs": [
    {
     "data": {
      "text/html": [
       "<div>\n",
       "<style scoped>\n",
       "    .dataframe tbody tr th:only-of-type {\n",
       "        vertical-align: middle;\n",
       "    }\n",
       "\n",
       "    .dataframe tbody tr th {\n",
       "        vertical-align: top;\n",
       "    }\n",
       "\n",
       "    .dataframe thead th {\n",
       "        text-align: right;\n",
       "    }\n",
       "</style>\n",
       "<table border=\"1\" class=\"dataframe\">\n",
       "  <thead>\n",
       "    <tr style=\"text-align: right;\">\n",
       "      <th></th>\n",
       "      <th>Transaction ID</th>\n",
       "      <th>Item</th>\n",
       "      <th>Quantity</th>\n",
       "      <th>Price Per Unit</th>\n",
       "      <th>Total Spent</th>\n",
       "      <th>Payment Method</th>\n",
       "      <th>Location</th>\n",
       "      <th>Transaction Date</th>\n",
       "    </tr>\n",
       "  </thead>\n",
       "  <tbody>\n",
       "    <tr>\n",
       "      <th>2</th>\n",
       "      <td>TXN_4271903</td>\n",
       "      <td>Cookie</td>\n",
       "      <td>4</td>\n",
       "      <td>1.0</td>\n",
       "      <td>0.0</td>\n",
       "      <td>Credit Card</td>\n",
       "      <td>In-store</td>\n",
       "      <td>2023-07-19</td>\n",
       "    </tr>\n",
       "    <tr>\n",
       "      <th>13</th>\n",
       "      <td>TXN_9437049</td>\n",
       "      <td>Cookie</td>\n",
       "      <td>5</td>\n",
       "      <td>1.0</td>\n",
       "      <td>5.0</td>\n",
       "      <td>NaN</td>\n",
       "      <td>Takeaway</td>\n",
       "      <td>2023-06-01</td>\n",
       "    </tr>\n",
       "    <tr>\n",
       "      <th>26</th>\n",
       "      <td>TXN_5183041</td>\n",
       "      <td>Cookie</td>\n",
       "      <td>5</td>\n",
       "      <td>1.0</td>\n",
       "      <td>5.0</td>\n",
       "      <td>Credit Card</td>\n",
       "      <td>In-store</td>\n",
       "      <td>2023-04-20</td>\n",
       "    </tr>\n",
       "    <tr>\n",
       "      <th>31</th>\n",
       "      <td>TXN_8927252</td>\n",
       "      <td>UNKNOWN</td>\n",
       "      <td>2</td>\n",
       "      <td>1.0</td>\n",
       "      <td>0.0</td>\n",
       "      <td>Credit Card</td>\n",
       "      <td>ERROR</td>\n",
       "      <td>2023-11-06</td>\n",
       "    </tr>\n",
       "    <tr>\n",
       "      <th>33</th>\n",
       "      <td>TXN_7710508</td>\n",
       "      <td>UNKNOWN</td>\n",
       "      <td>5</td>\n",
       "      <td>1.0</td>\n",
       "      <td>5.0</td>\n",
       "      <td>Cash</td>\n",
       "      <td>NaN</td>\n",
       "      <td>1900-01-01</td>\n",
       "    </tr>\n",
       "    <tr>\n",
       "      <th>...</th>\n",
       "      <td>...</td>\n",
       "      <td>...</td>\n",
       "      <td>...</td>\n",
       "      <td>...</td>\n",
       "      <td>...</td>\n",
       "      <td>...</td>\n",
       "      <td>...</td>\n",
       "      <td>...</td>\n",
       "    </tr>\n",
       "    <tr>\n",
       "      <th>9945</th>\n",
       "      <td>TXN_8153550</td>\n",
       "      <td>Cookie</td>\n",
       "      <td>2</td>\n",
       "      <td>1.0</td>\n",
       "      <td>2.0</td>\n",
       "      <td>Cash</td>\n",
       "      <td>Takeaway</td>\n",
       "      <td>2023-10-12</td>\n",
       "    </tr>\n",
       "    <tr>\n",
       "      <th>9951</th>\n",
       "      <td>TXN_4122925</td>\n",
       "      <td>ERROR</td>\n",
       "      <td>4</td>\n",
       "      <td>1.0</td>\n",
       "      <td>4.0</td>\n",
       "      <td>NaN</td>\n",
       "      <td>Takeaway</td>\n",
       "      <td>2023-10-20</td>\n",
       "    </tr>\n",
       "    <tr>\n",
       "      <th>9956</th>\n",
       "      <td>TXN_1958525</td>\n",
       "      <td>Cookie</td>\n",
       "      <td>3</td>\n",
       "      <td>1.0</td>\n",
       "      <td>3.0</td>\n",
       "      <td>NaN</td>\n",
       "      <td>Takeaway</td>\n",
       "      <td>2023-10-08</td>\n",
       "    </tr>\n",
       "    <tr>\n",
       "      <th>9976</th>\n",
       "      <td>TXN_3528020</td>\n",
       "      <td>Cookie</td>\n",
       "      <td>1</td>\n",
       "      <td>1.0</td>\n",
       "      <td>1.0</td>\n",
       "      <td>NaN</td>\n",
       "      <td>Takeaway</td>\n",
       "      <td>2023-08-26</td>\n",
       "    </tr>\n",
       "    <tr>\n",
       "      <th>9982</th>\n",
       "      <td>TXN_8567525</td>\n",
       "      <td>Cookie</td>\n",
       "      <td>2</td>\n",
       "      <td>1.0</td>\n",
       "      <td>2.0</td>\n",
       "      <td>NaN</td>\n",
       "      <td>Takeaway</td>\n",
       "      <td>2023-12-30</td>\n",
       "    </tr>\n",
       "  </tbody>\n",
       "</table>\n",
       "<p>1143 rows × 8 columns</p>\n",
       "</div>"
      ],
      "text/plain": [
       "     Transaction ID     Item  Quantity  Price Per Unit  Total Spent  \\\n",
       "2       TXN_4271903   Cookie         4             1.0          0.0   \n",
       "13      TXN_9437049   Cookie         5             1.0          5.0   \n",
       "26      TXN_5183041   Cookie         5             1.0          5.0   \n",
       "31      TXN_8927252  UNKNOWN         2             1.0          0.0   \n",
       "33      TXN_7710508  UNKNOWN         5             1.0          5.0   \n",
       "...             ...      ...       ...             ...          ...   \n",
       "9945    TXN_8153550   Cookie         2             1.0          2.0   \n",
       "9951    TXN_4122925    ERROR         4             1.0          4.0   \n",
       "9956    TXN_1958525   Cookie         3             1.0          3.0   \n",
       "9976    TXN_3528020   Cookie         1             1.0          1.0   \n",
       "9982    TXN_8567525   Cookie         2             1.0          2.0   \n",
       "\n",
       "     Payment Method  Location Transaction Date  \n",
       "2       Credit Card  In-store       2023-07-19  \n",
       "13              NaN  Takeaway       2023-06-01  \n",
       "26      Credit Card  In-store       2023-04-20  \n",
       "31      Credit Card     ERROR       2023-11-06  \n",
       "33             Cash       NaN       1900-01-01  \n",
       "...             ...       ...              ...  \n",
       "9945           Cash  Takeaway       2023-10-12  \n",
       "9951            NaN  Takeaway       2023-10-20  \n",
       "9956            NaN  Takeaway       2023-10-08  \n",
       "9976            NaN  Takeaway       2023-08-26  \n",
       "9982            NaN  Takeaway       2023-12-30  \n",
       "\n",
       "[1143 rows x 8 columns]"
      ]
     },
     "execution_count": 282,
     "metadata": {},
     "output_type": "execute_result"
    }
   ],
   "source": [
    "# I checked to see if some Items had consistent Price per unit so I could use them to fill the missing Items\n",
    "df[df['Price Per Unit'] == 1.0]\n"
   ]
  },
  {
   "cell_type": "code",
   "execution_count": 283,
   "id": "201ab793",
   "metadata": {},
   "outputs": [],
   "source": [
    "x = df[df['Price Per Unit'] == 1.0]"
   ]
  },
  {
   "cell_type": "code",
   "execution_count": 284,
   "id": "b3f583ee",
   "metadata": {},
   "outputs": [
    {
     "data": {
      "text/plain": [
       "2       Cookie\n",
       "31     UNKNOWN\n",
       "72         NaN\n",
       "283      ERROR\n",
       "Name: Item, dtype: object"
      ]
     },
     "execution_count": 284,
     "metadata": {},
     "output_type": "execute_result"
    }
   ],
   "source": [
    "x['Item'].drop_duplicates()"
   ]
  },
  {
   "cell_type": "code",
   "execution_count": 285,
   "id": "f9e15607",
   "metadata": {},
   "outputs": [],
   "source": [
    "# I found that Price per unit = 1.0, 1.5, 2.0, 5.0 were consistent so I filled up the missing items with them\n",
    "# I found that Price per unit = 0.0, 3.0, 4.0 had multiple items so I filled up the missing items with 'Unknown'"
   ]
  },
  {
   "cell_type": "code",
   "execution_count": 286,
   "id": "9db4ce16",
   "metadata": {},
   "outputs": [],
   "source": [
    "df.loc[df['Price Per Unit'] == 1.0, 'Item'] = 'Cookie'"
   ]
  },
  {
   "cell_type": "code",
   "execution_count": 287,
   "id": "7a672369",
   "metadata": {},
   "outputs": [],
   "source": [
    "df.loc[df['Price Per Unit'] == 1.5, 'Item'] = 'Tea'"
   ]
  },
  {
   "cell_type": "code",
   "execution_count": 288,
   "id": "fd683410",
   "metadata": {},
   "outputs": [],
   "source": [
    "df.loc[df['Price Per Unit'] == 2.0, 'Item'] = 'Coffee'"
   ]
  },
  {
   "cell_type": "code",
   "execution_count": 289,
   "id": "f125ca45",
   "metadata": {},
   "outputs": [],
   "source": [
    "df.loc[df['Price Per Unit'] == 5.0, 'Item'] = 'Salad'"
   ]
  },
  {
   "cell_type": "code",
   "execution_count": 290,
   "id": "7b260f32",
   "metadata": {},
   "outputs": [],
   "source": [
    "df.loc[df['Item'].isin([0.0,3.0,4.0]), 'Item'] = 'Unknown'"
   ]
  },
  {
   "cell_type": "code",
   "execution_count": 291,
   "id": "2ab2a356",
   "metadata": {},
   "outputs": [],
   "source": [
    "df.loc[df['Item'].isnull(), 'Item'] = 'Unknown'"
   ]
  },
  {
   "cell_type": "code",
   "execution_count": 292,
   "id": "df496df5",
   "metadata": {},
   "outputs": [
    {
     "data": {
      "text/plain": [
       "\" To fill up missing rows in 'Quantity', I divided 'Total Spent' and 'Price Per Unit'. \\nBut some rows in 'Total Spent' and 'Price Per Unit' were zero so I filtered those rows out in the code below \""
      ]
     },
     "execution_count": 292,
     "metadata": {},
     "output_type": "execute_result"
    }
   ],
   "source": [
    "''' To fill up missing rows in 'Quantity', I divided 'Total Spent' and 'Price Per Unit'. \n",
    "But some rows in 'Total Spent' and 'Price Per Unit' were zero so I filtered those rows out in the code below '''"
   ]
  },
  {
   "cell_type": "code",
   "execution_count": 293,
   "id": "79ccb215",
   "metadata": {},
   "outputs": [
    {
     "ename": "SyntaxError",
     "evalue": "invalid syntax (1639026070.py, line 2)",
     "output_type": "error",
     "traceback": [
      "\u001b[1;36m  Cell \u001b[1;32mIn[293], line 2\u001b[1;36m\u001b[0m\n\u001b[1;33m    = df['Total Spent'] / df['Price Per Unit']\u001b[0m\n\u001b[1;37m    ^\u001b[0m\n\u001b[1;31mSyntaxError\u001b[0m\u001b[1;31m:\u001b[0m invalid syntax\n"
     ]
    }
   ],
   "source": [
    "df.loc[(df['Quantity'] == 0) & (df['Price Per Unit'] != 0) & (df['Total Spent'] != 0),'Quantity'] \n",
    "= df['Total Spent'] / df['Price Per Unit']\n"
   ]
  },
  {
   "cell_type": "code",
   "execution_count": 294,
   "id": "3ae29ad4",
   "metadata": {
    "scrolled": true
   },
   "outputs": [
    {
     "data": {
      "text/html": [
       "<div>\n",
       "<style scoped>\n",
       "    .dataframe tbody tr th:only-of-type {\n",
       "        vertical-align: middle;\n",
       "    }\n",
       "\n",
       "    .dataframe tbody tr th {\n",
       "        vertical-align: top;\n",
       "    }\n",
       "\n",
       "    .dataframe thead th {\n",
       "        text-align: right;\n",
       "    }\n",
       "</style>\n",
       "<table border=\"1\" class=\"dataframe\">\n",
       "  <thead>\n",
       "    <tr style=\"text-align: right;\">\n",
       "      <th></th>\n",
       "      <th>Transaction ID</th>\n",
       "      <th>Item</th>\n",
       "      <th>Quantity</th>\n",
       "      <th>Price Per Unit</th>\n",
       "      <th>Total Spent</th>\n",
       "      <th>Payment Method</th>\n",
       "      <th>Location</th>\n",
       "      <th>Transaction Date</th>\n",
       "    </tr>\n",
       "  </thead>\n",
       "  <tbody>\n",
       "    <tr>\n",
       "      <th>20</th>\n",
       "      <td>TXN_3522028</td>\n",
       "      <td>Smoothie</td>\n",
       "      <td>0</td>\n",
       "      <td>4.0</td>\n",
       "      <td>20.0</td>\n",
       "      <td>Cash</td>\n",
       "      <td>In-store</td>\n",
       "      <td>2023-04-04</td>\n",
       "    </tr>\n",
       "    <tr>\n",
       "      <th>55</th>\n",
       "      <td>TXN_5522862</td>\n",
       "      <td>Cookie</td>\n",
       "      <td>0</td>\n",
       "      <td>1.0</td>\n",
       "      <td>2.0</td>\n",
       "      <td>Credit Card</td>\n",
       "      <td>Takeaway</td>\n",
       "      <td>2023-03-19</td>\n",
       "    </tr>\n",
       "    <tr>\n",
       "      <th>57</th>\n",
       "      <td>TXN_2080895</td>\n",
       "      <td>Cake</td>\n",
       "      <td>0</td>\n",
       "      <td>3.0</td>\n",
       "      <td>3.0</td>\n",
       "      <td>Digital Wallet</td>\n",
       "      <td>In-store</td>\n",
       "      <td>2023-04-19</td>\n",
       "    </tr>\n",
       "    <tr>\n",
       "      <th>66</th>\n",
       "      <td>TXN_8501819</td>\n",
       "      <td>Juice</td>\n",
       "      <td>0</td>\n",
       "      <td>3.0</td>\n",
       "      <td>6.0</td>\n",
       "      <td>Cash</td>\n",
       "      <td>NaN</td>\n",
       "      <td>2023-03-30</td>\n",
       "    </tr>\n",
       "    <tr>\n",
       "      <th>117</th>\n",
       "      <td>TXN_2148617</td>\n",
       "      <td>Juice</td>\n",
       "      <td>0</td>\n",
       "      <td>3.0</td>\n",
       "      <td>9.0</td>\n",
       "      <td>Digital Wallet</td>\n",
       "      <td>UNKNOWN</td>\n",
       "      <td>2023-01-10</td>\n",
       "    </tr>\n",
       "    <tr>\n",
       "      <th>...</th>\n",
       "      <td>...</td>\n",
       "      <td>...</td>\n",
       "      <td>...</td>\n",
       "      <td>...</td>\n",
       "      <td>...</td>\n",
       "      <td>...</td>\n",
       "      <td>...</td>\n",
       "      <td>...</td>\n",
       "    </tr>\n",
       "    <tr>\n",
       "      <th>9932</th>\n",
       "      <td>TXN_8502079</td>\n",
       "      <td>Tea</td>\n",
       "      <td>0</td>\n",
       "      <td>1.5</td>\n",
       "      <td>3.0</td>\n",
       "      <td>Cash</td>\n",
       "      <td>NaN</td>\n",
       "      <td>2023-04-20</td>\n",
       "    </tr>\n",
       "    <tr>\n",
       "      <th>9935</th>\n",
       "      <td>TXN_9778251</td>\n",
       "      <td>Tea</td>\n",
       "      <td>0</td>\n",
       "      <td>1.5</td>\n",
       "      <td>6.0</td>\n",
       "      <td>NaN</td>\n",
       "      <td>Takeaway</td>\n",
       "      <td>2023-11-09</td>\n",
       "    </tr>\n",
       "    <tr>\n",
       "      <th>9944</th>\n",
       "      <td>TXN_7495283</td>\n",
       "      <td>Cake</td>\n",
       "      <td>0</td>\n",
       "      <td>3.0</td>\n",
       "      <td>15.0</td>\n",
       "      <td>Credit Card</td>\n",
       "      <td>Takeaway</td>\n",
       "      <td>2023-04-14</td>\n",
       "    </tr>\n",
       "    <tr>\n",
       "      <th>9957</th>\n",
       "      <td>TXN_6487003</td>\n",
       "      <td>Coffee</td>\n",
       "      <td>0</td>\n",
       "      <td>2.0</td>\n",
       "      <td>8.0</td>\n",
       "      <td>Credit Card</td>\n",
       "      <td>Takeaway</td>\n",
       "      <td>2023-11-15</td>\n",
       "    </tr>\n",
       "    <tr>\n",
       "      <th>9984</th>\n",
       "      <td>TXN_3142496</td>\n",
       "      <td>Smoothie</td>\n",
       "      <td>0</td>\n",
       "      <td>4.0</td>\n",
       "      <td>4.0</td>\n",
       "      <td>Cash</td>\n",
       "      <td>Takeaway</td>\n",
       "      <td>2023-07-27</td>\n",
       "    </tr>\n",
       "  </tbody>\n",
       "</table>\n",
       "<p>479 rows × 8 columns</p>\n",
       "</div>"
      ],
      "text/plain": [
       "     Transaction ID      Item  Quantity  Price Per Unit  Total Spent  \\\n",
       "20      TXN_3522028  Smoothie         0             4.0         20.0   \n",
       "55      TXN_5522862    Cookie         0             1.0          2.0   \n",
       "57      TXN_2080895      Cake         0             3.0          3.0   \n",
       "66      TXN_8501819     Juice         0             3.0          6.0   \n",
       "117     TXN_2148617     Juice         0             3.0          9.0   \n",
       "...             ...       ...       ...             ...          ...   \n",
       "9932    TXN_8502079       Tea         0             1.5          3.0   \n",
       "9935    TXN_9778251       Tea         0             1.5          6.0   \n",
       "9944    TXN_7495283      Cake         0             3.0         15.0   \n",
       "9957    TXN_6487003    Coffee         0             2.0          8.0   \n",
       "9984    TXN_3142496  Smoothie         0             4.0          4.0   \n",
       "\n",
       "      Payment Method  Location Transaction Date  \n",
       "20              Cash  In-store       2023-04-04  \n",
       "55       Credit Card  Takeaway       2023-03-19  \n",
       "57    Digital Wallet  In-store       2023-04-19  \n",
       "66              Cash       NaN       2023-03-30  \n",
       "117   Digital Wallet   UNKNOWN       2023-01-10  \n",
       "...              ...       ...              ...  \n",
       "9932            Cash       NaN       2023-04-20  \n",
       "9935             NaN  Takeaway       2023-11-09  \n",
       "9944     Credit Card  Takeaway       2023-04-14  \n",
       "9957     Credit Card  Takeaway       2023-11-15  \n",
       "9984            Cash  Takeaway       2023-07-27  \n",
       "\n",
       "[479 rows x 8 columns]"
      ]
     },
     "execution_count": 294,
     "metadata": {},
     "output_type": "execute_result"
    }
   ],
   "source": [
    "df[df['Quantity'] == 0]\n"
   ]
  },
  {
   "cell_type": "code",
   "execution_count": 295,
   "id": "2bad82c8",
   "metadata": {},
   "outputs": [],
   "source": [
    "# For the missing rows in 'Total Spent' and 'Price Per Unit', I filled them with the average of those columns"
   ]
  },
  {
   "cell_type": "code",
   "execution_count": 296,
   "id": "2527ca16",
   "metadata": {},
   "outputs": [
    {
     "data": {
      "text/plain": [
       "8.47635"
      ]
     },
     "execution_count": 296,
     "metadata": {},
     "output_type": "execute_result"
    }
   ],
   "source": [
    "df['Total Spent'].mean()"
   ]
  },
  {
   "cell_type": "code",
   "execution_count": 297,
   "id": "7259d35c",
   "metadata": {},
   "outputs": [
    {
     "data": {
      "text/plain": [
       "2.79275"
      ]
     },
     "execution_count": 297,
     "metadata": {},
     "output_type": "execute_result"
    }
   ],
   "source": [
    "df['Price Per Unit'].mean()"
   ]
  },
  {
   "cell_type": "code",
   "execution_count": 298,
   "id": "1bde9eb0",
   "metadata": {},
   "outputs": [],
   "source": [
    "df.loc[df['Price Per Unit'] == 0, 'Price Per Unit'] = 3.0"
   ]
  },
  {
   "cell_type": "code",
   "execution_count": 299,
   "id": "426b9fb7",
   "metadata": {},
   "outputs": [],
   "source": [
    "df.loc[df['Total Spent'] == 0, 'Total Spent'] = 9.0"
   ]
  },
  {
   "cell_type": "code",
   "execution_count": 300,
   "id": "636e2af2",
   "metadata": {},
   "outputs": [],
   "source": [
    "# Then I filled the remaining missing rows with df['Total Spent']/df['Price Per Unit']"
   ]
  },
  {
   "cell_type": "code",
   "execution_count": null,
   "id": "e0f77a88",
   "metadata": {},
   "outputs": [],
   "source": [
    "df.loc[df['Quantity'] == 0, 'Quantity'] = df['Total Spent']/df['Price Per Unit']"
   ]
  },
  {
   "cell_type": "code",
   "execution_count": 302,
   "id": "d6f2e1b7",
   "metadata": {},
   "outputs": [],
   "source": [
    "# For 'Payment Method' and 'Location', I filled the missing rows with 'Unknown'"
   ]
  },
  {
   "cell_type": "code",
   "execution_count": 303,
   "id": "52e7d8f3",
   "metadata": {},
   "outputs": [],
   "source": [
    "df.loc[df['Payment Method'].isnull(), 'Payment Method'] = 'Unknown'"
   ]
  },
  {
   "cell_type": "code",
   "execution_count": null,
   "id": "b07c0523",
   "metadata": {},
   "outputs": [],
   "source": [
    "df.loc[df['Location'].isnull(), 'Location'] = 'Unknown'"
   ]
  },
  {
   "cell_type": "code",
   "execution_count": null,
   "id": "6fef2a8f",
   "metadata": {},
   "outputs": [],
   "source": []
  },
  {
   "cell_type": "code",
   "execution_count": null,
   "id": "a623e1b8",
   "metadata": {},
   "outputs": [],
   "source": []
  },
  {
   "cell_type": "code",
   "execution_count": null,
   "id": "d0027afe",
   "metadata": {},
   "outputs": [],
   "source": [
    "# checked for duplicate rows and found none\n",
    "df[df.duplicated()]"
   ]
  },
  {
   "cell_type": "code",
   "execution_count": null,
   "id": "19f37559",
   "metadata": {},
   "outputs": [],
   "source": []
  },
  {
   "cell_type": "code",
   "execution_count": null,
   "id": "e54399db",
   "metadata": {},
   "outputs": [],
   "source": [
    "''' I checked for spelling and inconsistent naming convention in 'Item', 'Payment Method' and 'Location' columns.\n",
    "I found wrong values - 'UNKNOWN' and 'ERROR' in the columns '''"
   ]
  },
  {
   "cell_type": "code",
   "execution_count": null,
   "id": "de248b4d",
   "metadata": {},
   "outputs": [],
   "source": [
    "df['Item'].drop_duplicates()"
   ]
  },
  {
   "cell_type": "code",
   "execution_count": null,
   "id": "7e726d78",
   "metadata": {},
   "outputs": [],
   "source": [
    "''' I checked to see if the 'UNKNOWN' and 'ERROR' rows had consistent Price per unit,\n",
    "so I could use them to fill the wrong values but I saw that it was 3.0 and 4.0 so I left them as 'Unknown' '''"
   ]
  },
  {
   "cell_type": "code",
   "execution_count": null,
   "id": "67a6a838",
   "metadata": {},
   "outputs": [],
   "source": [
    "x = df[df['Item'] == 'UNKNOWN']"
   ]
  },
  {
   "cell_type": "code",
   "execution_count": null,
   "id": "aec32f0b",
   "metadata": {
    "scrolled": true
   },
   "outputs": [],
   "source": [
    "x['Price Per Unit'].drop_duplicates()"
   ]
  },
  {
   "cell_type": "code",
   "execution_count": null,
   "id": "9dca5fcb",
   "metadata": {},
   "outputs": [],
   "source": [
    "y = df[df['Item'] == 'ERROR']"
   ]
  },
  {
   "cell_type": "code",
   "execution_count": null,
   "id": "aea02bde",
   "metadata": {},
   "outputs": [],
   "source": [
    "y['Price Per Unit'].drop_duplicates()"
   ]
  },
  {
   "cell_type": "code",
   "execution_count": null,
   "id": "8d80539c",
   "metadata": {},
   "outputs": [],
   "source": [
    "# I replaced 'UNKNOWN' and 'ERROR' with 'Unknown' in those 3 columns"
   ]
  },
  {
   "cell_type": "code",
   "execution_count": null,
   "id": "1bff3b3c",
   "metadata": {},
   "outputs": [],
   "source": [
    "df.loc[df['Item'] == 'UNKNOWN', 'Item'] = 'Unknown'"
   ]
  },
  {
   "cell_type": "code",
   "execution_count": null,
   "id": "a08a4041",
   "metadata": {},
   "outputs": [],
   "source": [
    "df.loc[df['Item'] == 'ERROR', 'Item'] = 'Unknown'"
   ]
  },
  {
   "cell_type": "code",
   "execution_count": null,
   "id": "04f6eac0",
   "metadata": {},
   "outputs": [],
   "source": [
    "df['Payment Method'].drop_duplicates()"
   ]
  },
  {
   "cell_type": "code",
   "execution_count": null,
   "id": "8e7dab6b",
   "metadata": {},
   "outputs": [],
   "source": [
    "df.loc[(df['Payment Method'] == 'UNKNOWN') | (df['Payment Method'] == 'ERROR'), 'Payment Method'] = 'Unknown'"
   ]
  },
  {
   "cell_type": "code",
   "execution_count": null,
   "id": "0e0f7865",
   "metadata": {},
   "outputs": [],
   "source": [
    "df['Location'].drop_duplicates()"
   ]
  },
  {
   "cell_type": "code",
   "execution_count": null,
   "id": "f50cf224",
   "metadata": {},
   "outputs": [],
   "source": [
    "df.loc[(df['Location'] == 'UNKNOWN') | (df['Location'] == 'ERROR'), 'Location'] = 'Unknown'"
   ]
  },
  {
   "cell_type": "code",
   "execution_count": null,
   "id": "4a5362f0",
   "metadata": {},
   "outputs": [],
   "source": []
  },
  {
   "cell_type": "code",
   "execution_count": null,
   "id": "c83b57d4",
   "metadata": {},
   "outputs": [],
   "source": []
  }
 ],
 "metadata": {
  "kernelspec": {
   "display_name": "Python 3 (ipykernel)",
   "language": "python",
   "name": "python3"
  },
  "language_info": {
   "codemirror_mode": {
    "name": "ipython",
    "version": 3
   },
   "file_extension": ".py",
   "mimetype": "text/x-python",
   "name": "python",
   "nbconvert_exporter": "python",
   "pygments_lexer": "ipython3",
   "version": "3.10.9"
  }
 },
 "nbformat": 4,
 "nbformat_minor": 5
}
